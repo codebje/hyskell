{
 "cells": [
  {
   "cell_type": "code",
   "execution_count": 22,
   "metadata": {
    "collapsed": false
   },
   "outputs": [],
   "source": [
    "def flatten(gen, input):\n",
    "    for i in input:\n",
    "        for v in gen(i):\n",
    "            yield v\n",
    "\n",
    "def pipe(init, *gens):\n",
    "    for g in gens:\n",
    "        # new generator is the flattening of g(init)\n",
    "        init = flatten(g, init)\n",
    "    # run the final generator\n",
    "    for i in init:\n",
    "        yield i"
   ]
  },
  {
   "cell_type": "code",
   "execution_count": 28,
   "metadata": {
    "collapsed": false
   },
   "outputs": [],
   "source": [
    "def produceIntegers(n):\n",
    "    while n > 0:\n",
    "        yield n\n",
    "        n = n - 1\n",
    "        \n",
    "def removeOddNumbers(n):\n",
    "    if n % 2 == 0:\n",
    "        yield n\n",
    "        \n",
    "def beThatHappy(n):\n",
    "    while n > 0:\n",
    "        yield \"yippee: %d\" % n\n",
    "        n = n - 1"
   ]
  },
  {
   "cell_type": "code",
   "execution_count": 29,
   "metadata": {
    "collapsed": false
   },
   "outputs": [
    {
     "name": "stdout",
     "output_type": "stream",
     "text": [
      "yippee: 10\n",
      "yippee: 9\n",
      "yippee: 8\n",
      "yippee: 7\n",
      "yippee: 6\n",
      "yippee: 5\n",
      "yippee: 4\n",
      "yippee: 3\n",
      "yippee: 2\n",
      "yippee: 1\n",
      "yippee: 8\n",
      "yippee: 7\n",
      "yippee: 6\n",
      "yippee: 5\n",
      "yippee: 4\n",
      "yippee: 3\n",
      "yippee: 2\n",
      "yippee: 1\n",
      "yippee: 6\n",
      "yippee: 5\n",
      "yippee: 4\n",
      "yippee: 3\n",
      "yippee: 2\n",
      "yippee: 1\n",
      "yippee: 4\n",
      "yippee: 3\n",
      "yippee: 2\n",
      "yippee: 1\n",
      "yippee: 2\n",
      "yippee: 1\n"
     ]
    }
   ],
   "source": [
    "for result in pipe(\n",
    "        produceIntegers(10),\n",
    "        removeOddNumbers,\n",
    "        beThatHappy):\n",
    "    print(result)"
   ]
  }
 ],
 "metadata": {
  "kernelspec": {
   "display_name": "Python 3",
   "language": "python",
   "name": "python3"
  },
  "language_info": {
   "codemirror_mode": {
    "name": "ipython",
    "version": 3
   },
   "file_extension": ".py",
   "mimetype": "text/x-python",
   "name": "python",
   "nbconvert_exporter": "python",
   "pygments_lexer": "ipython3",
   "version": "3.4.3"
  }
 },
 "nbformat": 4,
 "nbformat_minor": 0
}
